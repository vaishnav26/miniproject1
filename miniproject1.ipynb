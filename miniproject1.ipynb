{
  "nbformat": 4,
  "nbformat_minor": 0,
  "metadata": {
    "colab": {
      "name": "miniproject1.ipynb",
      "provenance": [],
      "collapsed_sections": [],
      "authorship_tag": "ABX9TyNXzBjHDZuDfF+R/zawu+7l",
      "include_colab_link": true
    },
    "kernelspec": {
      "name": "python3",
      "display_name": "Python 3"
    }
  },
  "cells": [
    {
      "cell_type": "markdown",
      "metadata": {
        "id": "view-in-github",
        "colab_type": "text"
      },
      "source": [
        "<a href=\"https://colab.research.google.com/github/vaishnav26/miniproject1/blob/main/miniproject1.ipynb\" target=\"_parent\"><img src=\"https://colab.research.google.com/assets/colab-badge.svg\" alt=\"Open In Colab\"/></a>"
      ]
    },
    {
      "cell_type": "code",
      "metadata": {
        "id": "E1S8pbONF9U1",
        "outputId": "0656f0a1-4cac-4e14-95a7-43c9c608a681",
        "colab": {
          "base_uri": "https://localhost:8080/",
          "height": 34
        }
      },
      "source": [
        "!pip install bing-image-downloader"
      ],
      "execution_count": 3,
      "outputs": [
        {
          "output_type": "stream",
          "text": [
            "Requirement already satisfied: bing-image-downloader in /usr/local/lib/python3.6/dist-packages (1.0.4)\n"
          ],
          "name": "stdout"
        }
      ]
    },
    {
      "cell_type": "code",
      "metadata": {
        "id": "PA32iXxpGjkw"
      },
      "source": [
        "import bing_image_downloader"
      ],
      "execution_count": 4,
      "outputs": []
    },
    {
      "cell_type": "code",
      "metadata": {
        "id": "eMlR0ogZHEJR"
      },
      "source": [
        "!mkdir images"
      ],
      "execution_count": 5,
      "outputs": []
    },
    {
      "cell_type": "code",
      "metadata": {
        "id": "wG_ikexfG9e4",
        "outputId": "399d9fc5-2333-46b4-9f6f-4f7313936796",
        "colab": {
          "base_uri": "https://localhost:8080/",
          "height": 1000
        }
      },
      "source": [
        "from bing_image_downloader import downloader\n",
        "downloader.download('bikes', limit=20,  output_dir='images', adult_filter_off=True, force_replace=False, timeout=60)"
      ],
      "execution_count": 6,
      "outputs": [
        {
          "output_type": "stream",
          "text": [
            "\n",
            "\n",
            "[!!]Indexing page: 1\n",
            "\n",
            "[%] Indexed 20 Images on Page 1.\n",
            "\n",
            "===============================================\n",
            "\n",
            "[%] Downloading Image #1 from http://www.bikesdirect.com/products/gravity/fat-bikes/fat-bikes-images/bullseye-monster-grn-21.jpg\n",
            "[%] File Downloaded !\n",
            "\n",
            "[%] Downloading Image #2 from http://www.bikesdirect.com/products/gravity/fat-bikes/bullseyemonster-hotred-21.jpg\n",
            "[%] File Downloaded !\n",
            "\n",
            "[%] Downloading Image #3 from http://www.bicycleretailer.com/sites/default/files/images/article/Methanol%20SX%20YLBR2I6J_01.jpg\n",
            "[%] File Downloaded !\n",
            "\n",
            "[%] Downloading Image #4 from https://i.ytimg.com/vi/BoZ6mnNOFSM/maxresdefault.jpg\n",
            "[%] File Downloaded !\n",
            "\n",
            "[%] Downloading Image #5 from https://bikerumor.com/wp-content/uploads/2017/02/Kona-2017-mountain-bikes-fat-plus-actual-weights-26.jpg\n",
            "[%] File Downloaded !\n",
            "\n",
            "[%] Downloading Image #6 from https://p.vitalbmx.com/photos/products/9717/photos/17827/s1600_talisman_blue.jpg?1449257981\n",
            "[%] File Downloaded !\n",
            "\n",
            "[%] Downloading Image #7 from http://www.nsbikes.com/2015/images/slider/s3-1115-s.jpg\n",
            "[%] File Downloaded !\n",
            "\n",
            "[%] Downloading Image #8 from https://i.ytimg.com/vi/n3AZ_3pRSmU/maxresdefault.jpg\n",
            "[%] File Downloaded !\n",
            "\n",
            "[%] Downloading Image #9 from https://factoryjackson.com/wp-content/uploads/2016/06/Marin-2017-Mountain-Bikes-29-of-72.jpg\n",
            "[!] Issue getting: https://factoryjackson.com/wp-content/uploads/2016/06/Marin-2017-Mountain-Bikes-29-of-72.jpg\n",
            "[!] Error:: <urlopen error [SSL: CERTIFICATE_VERIFY_FAILED] certificate verify failed (_ssl.c:852)>\n",
            "[%] Downloading Image #9 from https://cdn.shopify.com/s/files/1/0777/4197/files/1200x750-Page-Image-Custom-Builds.jpg?v=1479913058\n",
            "[Error]Invalid image, not saving https://cdn.shopify.com/s/files/1/0777/4197/files/1200x750-Page-Image-Custom-Builds.jpg?v=1479913058\n",
            "\n",
            "[!] Issue getting: https://cdn.shopify.com/s/files/1/0777/4197/files/1200x750-Page-Image-Custom-Builds.jpg?v=1479913058\n",
            "[!] Error:: No active exception to reraise\n",
            "[%] Downloading Image #9 from http://www.bikesdirect.com/products/motobecane/images/300htw_bblue_2100.jpg\n",
            "[%] File Downloaded !\n",
            "\n",
            "[%] Downloading Image #10 from https://roadandmountainbikereviews.co.uk/wp-content/uploads/2018/11/Mafiabikes-kush-bmx-bike.jpg\n",
            "[%] File Downloaded !\n",
            "\n",
            "[%] Downloading Image #11 from https://i.ytimg.com/vi/vLe5fvGRjwQ/maxresdefault.jpg\n",
            "[%] File Downloaded !\n",
            "\n",
            "[%] Downloading Image #12 from http://www.bikesdirect.com/products/terry_womens_bikes/images/susan_bx_blue_1200.jpg\n",
            "[%] File Downloaded !\n",
            "\n",
            "[%] Downloading Image #13 from https://p.vitalmtb.com/photos/users/5496/photos/29339/original_metropolis_3_0.jpg?1326972469\n",
            "[%] File Downloaded !\n",
            "\n",
            "[%] Downloading Image #14 from https://coresites-cdn.factorymedia.com/dirt_new/wp-content/uploads/2016/01/bikes-intro.jpg\n",
            "[!] Issue getting: https://coresites-cdn.factorymedia.com/dirt_new/wp-content/uploads/2016/01/bikes-intro.jpg\n",
            "[!] Error:: <urlopen error [Errno -3] Temporary failure in name resolution>\n",
            "[%] Downloading Image #14 from https://www.ridelow.co.uk/media/catalog/product/cache/1/image/1200x1200/9df78eab33525d08d6e5fb8d27136e95/s/e/se-bikes-mike-buff-fat-ripper-2020-side.jpg\n",
            "[%] File Downloaded !\n",
            "\n",
            "[%] Downloading Image #15 from https://www.bicycleretailer.com/sites/default/files/images/article/08_S22_WHITE 800.jpg\n",
            "[!] Issue getting: https://www.bicycleretailer.com/sites/default/files/images/article/08_S22_WHITE 800.jpg\n",
            "[!] Error:: URL can't contain control characters. '/sites/default/files/images/article/08_S22_WHITE 800.jpg' (found at least ' ')\n",
            "[%] Downloading Image #15 from http://www.bikesdirect.com/products/mercier/images/elle_town_green_2100.jpg\n",
            "[%] File Downloaded !\n",
            "\n",
            "[%] Downloading Image #16 from https://i.ytimg.com/vi/YX6SmFQkouI/maxresdefault.jpg\n",
            "[%] File Downloaded !\n",
            "\n",
            "\n",
            "\n",
            "[!!]Indexing page: 2\n",
            "\n",
            "[%] Indexed 35 Images on Page 2.\n",
            "\n",
            "===============================================\n",
            "\n",
            "[%] Downloading Image #17 from http://www.bikesdirect.com/products/gravity/fat-bikes/fat-bikes-images/bullseye-monster-grn-21.jpg\n",
            "[%] File Downloaded !\n",
            "\n",
            "[%] Downloading Image #18 from http://www.bikesdirect.com/products/gravity/fat-bikes/bullseyemonster-hotred-21.jpg\n",
            "[%] File Downloaded !\n",
            "\n",
            "[%] Downloading Image #19 from https://i.ytimg.com/vi/BoZ6mnNOFSM/maxresdefault.jpg\n",
            "[%] File Downloaded !\n",
            "\n",
            "[%] Downloading Image #20 from http://www.bicycleretailer.com/sites/default/files/images/article/Methanol%20SX%20YLBR2I6J_01.jpg\n",
            "[%] File Downloaded !\n",
            "\n",
            "\n",
            "\n",
            "[%] Done. Downloaded 20 images.\n",
            "\n",
            "===============================================\n",
            "\n"
          ],
          "name": "stdout"
        }
      ]
    },
    {
      "cell_type": "code",
      "metadata": {
        "id": "Nb_Xvm5qIeG4",
        "outputId": "7f1fbd3a-8d44-4ebe-84ce-8482d53d61d6",
        "colab": {
          "base_uri": "https://localhost:8080/",
          "height": 1000
        }
      },
      "source": [
        "from bing_image_downloader import downloader\n",
        "downloader.download('cars', limit=20,  output_dir='images', adult_filter_off=True, force_replace=False, timeout=60)"
      ],
      "execution_count": 7,
      "outputs": [
        {
          "output_type": "stream",
          "text": [
            "\n",
            "\n",
            "[!!]Indexing page: 1\n",
            "\n",
            "[%] Indexed 20 Images on Page 1.\n",
            "\n",
            "===============================================\n",
            "\n",
            "[%] Downloading Image #1 from https://pictures.topspeed.com/IMG/jpg/201807/5-modern-sports-cars.jpg\n",
            "[%] File Downloaded !\n",
            "\n",
            "[%] Downloading Image #2 from http://4.bp.blogspot.com/-OpzJoEVINVk/Tm265viTyhI/AAAAAAAAcco/DTvok43b4Oc/s1600/cars+photos+1.jpg\n",
            "[%] File Downloaded !\n",
            "\n",
            "[%] Downloading Image #3 from https://improb.com/wp-content/uploads/2019/07/Best-Street-Legal-Cars-that-Can-Do-Over-200-MPH.jpg\n",
            "[Error]Invalid image, not saving https://improb.com/wp-content/uploads/2019/07/Best-Street-Legal-Cars-that-Can-Do-Over-200-MPH.jpg\n",
            "\n",
            "[!] Issue getting: https://improb.com/wp-content/uploads/2019/07/Best-Street-Legal-Cars-that-Can-Do-Over-200-MPH.jpg\n",
            "[!] Error:: No active exception to reraise\n",
            "[%] Downloading Image #3 from http://1.bp.blogspot.com/-okP1j9pzSzw/TjKthXHloWI/AAAAAAAAEX4/jLvcrkSAdXM/s1600/Hot+Cars+Wallpapers+%252823%2529.jpg\n",
            "[%] File Downloaded !\n",
            "\n",
            "[%] Downloading Image #4 from http://s1.cdn.autoevolution.com/images/news/gallery/consumer-reports-best-worst-cars-2016_8.jpeg\n",
            "[%] File Downloaded !\n",
            "\n",
            "[%] Downloading Image #5 from https://static2.hotcarsimages.com/wordpress/wp-content/uploads/2020/02/Bugatti-Atlantic.jpg\n",
            "[%] File Downloaded !\n",
            "\n",
            "[%] Downloading Image #6 from https://i.kinja-img.com/gawker-media/image/upload/c_fill,f_auto,fl_progressive,g_center,h_675,pg_1,q_80,w_1200/hxeaiojuy1kzqfceqcph.jpg\n",
            "[%] File Downloaded !\n",
            "\n",
            "[%] Downloading Image #7 from https://i.ytimg.com/vi/kEZhvxOmtD8/maxresdefault.jpg\n",
            "[%] File Downloaded !\n",
            "\n",
            "[%] Downloading Image #8 from http://1.bp.blogspot.com/-FigFX7F4DsI/TcIKCfHaetI/AAAAAAAAAU0/-c2918qebPg/s1600/dodge-viper-cars.jpg\n",
            "[%] File Downloaded !\n",
            "\n",
            "[%] Downloading Image #9 from http://sportsandexoticcars.com/wp-content/uploads/2012/08/P1000956.jpg\n",
            "[%] File Downloaded !\n",
            "\n",
            "[%] Downloading Image #10 from https://www.pixelstalk.net/wp-content/uploads/2016/10/HD-free-disney-cars-pictures.jpg\n",
            "[%] File Downloaded !\n",
            "\n",
            "[%] Downloading Image #11 from https://www.carscoops.com/wp-content/uploads/2018/05/McLaren-720S-570S-Spider.jpg\n",
            "[%] File Downloaded !\n",
            "\n",
            "[%] Downloading Image #12 from https://vignette.wikia.nocookie.net/transcripts/images/4/42/Disney_and_Pixar's_Cars_-_iTunes_Movie_Poster.jpg/revision/latest?cb=20170401033018\n",
            "[%] File Downloaded !\n",
            "\n",
            "[%] Downloading Image #13 from https://www.hdnicewallpapers.com/Walls/Big/Bugatti/MEO_Costantini_Bugatti_Veyron_HD_Nice_Cars_Photos.jpg\n",
            "[%] File Downloaded !\n",
            "\n",
            "[%] Downloading Image #14 from http://1.bp.blogspot.com/-VfDYnl-v21s/ULuQsKQv0yI/AAAAAAAAIt8/doRmBSkXENk/s1600/Green_Car_4.jpg\n",
            "[%] File Downloaded !\n",
            "\n",
            "[%] Downloading Image #15 from http://2.bp.blogspot.com/-Or5adHgp62Y/TjKtXX3snrI/AAAAAAAAEXs/g_KGfrsLZxA/s1600/Hot+Cars+Wallpapers+%252820%2529.jpg\n",
            "[%] File Downloaded !\n",
            "\n",
            "[%] Downloading Image #16 from http://2.bp.blogspot.com/-AHMNUuHDAcE/T71Uy-9xKLI/AAAAAAAAAzk/3fouQwslKDE/s1600/Sports+Cars+Wallpapers-3.jpg\n",
            "[%] File Downloaded !\n",
            "\n",
            "[%] Downloading Image #17 from https://www.autocar.co.uk/sites/autocar.co.uk/files/styles/gallery_slide/public/images/car-reviews/first-drives/legacy/98_-_fastest_accelerating_road_cars_-_ferrari_f8_tributo.jpg?itok=cK2YYgq2\n",
            "[%] File Downloaded !\n",
            "\n",
            "[%] Downloading Image #18 from http://4.bp.blogspot.com/-M7myeBb9onM/T3u6YZtoQmI/AAAAAAAAAdQ/BTyNEaWjNWY/s1600/fast-cars-1.jpg\n",
            "[%] File Downloaded !\n",
            "\n",
            "[%] Downloading Image #19 from https://cdn.motor1.com/images/mgl/4vB7o/s3/these-two-sleek-sports-cars-have-volkswagen-origins.jpg\n",
            "[%] File Downloaded !\n",
            "\n",
            "\n",
            "\n",
            "[!!]Indexing page: 2\n",
            "\n",
            "[%] Indexed 35 Images on Page 2.\n",
            "\n",
            "===============================================\n",
            "\n",
            "[%] Downloading Image #20 from https://pictures.topspeed.com/IMG/jpg/201807/5-modern-sports-cars.jpg\n",
            "[%] File Downloaded !\n",
            "\n",
            "\n",
            "\n",
            "[%] Done. Downloaded 20 images.\n",
            "\n",
            "===============================================\n",
            "\n"
          ],
          "name": "stdout"
        }
      ]
    },
    {
      "cell_type": "code",
      "metadata": {
        "id": "zoZhWuwdtGOS"
      },
      "source": [
        "import numpy as np\n",
        "from skimage.transform import resize\n",
        "from skimage.io import imread\n",
        "import matplotlib.pyplot as plt\n",
        "import os\n",
        "\n",
        "target = []\n",
        "images = []  \n",
        "flat_data = [] \n",
        "\n",
        "DATADIR = '/content/images'\n",
        "CATEGORIES = ['bikes','cars']\n",
        "\n",
        "for category in CATEGORIES:\n",
        "  class_num = CATEGORIES.index(category)\n",
        "  path = os.path.join(DATADIR,category)\n",
        "  for img in os.listdir(path):\n",
        "    img_array = imread(os.path.join(path,img))\n",
        "    img_resized = resize(img_array,(150,150,3))\n",
        "    flat_data.append(img_resized.flatten())\n",
        "    images.append(img_resized)\n",
        "    target.append(class_num)\n",
        "\n",
        "target = np.array(target)\n",
        "images = np.array(images)\n",
        "flat_data = np.array(flat_data)"
      ],
      "execution_count": 8,
      "outputs": []
    },
    {
      "cell_type": "code",
      "metadata": {
        "id": "1voHpW6aK_-B"
      },
      "source": [
        "import pandas as pd\n",
        "df = pd.DataFrame(flat_data)\n",
        "df['Target'] = target\n"
      ],
      "execution_count": 9,
      "outputs": []
    },
    {
      "cell_type": "code",
      "metadata": {
        "id": "6buzWqYyhbN4"
      },
      "source": [
        "from sklearn.model_selection import train_test_split\n",
        "x_train,x_test,y_train,y_test = train_test_split(flat_data,target,random_state=0)"
      ],
      "execution_count": 10,
      "outputs": []
    },
    {
      "cell_type": "code",
      "metadata": {
        "id": "gDmL2NpqXIC6"
      },
      "source": [
        ""
      ],
      "execution_count": 10,
      "outputs": []
    },
    {
      "cell_type": "code",
      "metadata": {
        "id": "MAl6q-uZbwQl",
        "outputId": "022963f2-8c93-47cc-cbbd-99ef7aba3c2a",
        "colab": {
          "base_uri": "https://localhost:8080/",
          "height": 238
        }
      },
      "source": [
        "from sklearn.model_selection import GridSearchCV\n",
        "from sklearn import svm\n",
        "param_grid=[{'C':[1,10,100,1000],'kernel':['linear']},\n",
        "            {'C':[1,10,100,1000],'gamma':[0.001,0.0001],'kernel':['rbf']}]\n",
        "svc=svm.SVC(probability=True)\n",
        "clf=GridSearchCV(svc,param_grid)\n",
        "clf.fit(x_train,y_train)"
      ],
      "execution_count": 13,
      "outputs": [
        {
          "output_type": "execute_result",
          "data": {
            "text/plain": [
              "GridSearchCV(cv=None, error_score=nan,\n",
              "             estimator=SVC(C=1.0, break_ties=False, cache_size=200,\n",
              "                           class_weight=None, coef0=0.0,\n",
              "                           decision_function_shape='ovr', degree=3,\n",
              "                           gamma='scale', kernel='rbf', max_iter=-1,\n",
              "                           probability=True, random_state=None, shrinking=True,\n",
              "                           tol=0.001, verbose=False),\n",
              "             iid='deprecated', n_jobs=None,\n",
              "             param_grid=[{'C': [1, 10, 100, 1000], 'kernel': ['linear']},\n",
              "                         {'C': [1, 10, 100, 1000], 'gamma': [0.001, 0.0001],\n",
              "                          'kernel': ['rbf']}],\n",
              "             pre_dispatch='2*n_jobs', refit=True, return_train_score=False,\n",
              "             scoring=None, verbose=0)"
            ]
          },
          "metadata": {
            "tags": []
          },
          "execution_count": 13
        }
      ]
    },
    {
      "cell_type": "code",
      "metadata": {
        "id": "VWGDvziZyiqj"
      },
      "source": [
        "y_pred= clf.predict(x_test)"
      ],
      "execution_count": 18,
      "outputs": []
    },
    {
      "cell_type": "code",
      "metadata": {
        "id": "-pPfq67LzWEC",
        "outputId": "2723d9b9-aa21-41e0-ef7c-f0127b9edc15",
        "colab": {
          "base_uri": "https://localhost:8080/",
          "height": 34
        }
      },
      "source": [
        "from sklearn.metrics import accuracy_score,confusion_matrix\n",
        "accuracy_score(y_pred,y_test)"
      ],
      "execution_count": 19,
      "outputs": [
        {
          "output_type": "execute_result",
          "data": {
            "text/plain": [
              "0.9"
            ]
          },
          "metadata": {
            "tags": []
          },
          "execution_count": 19
        }
      ]
    },
    {
      "cell_type": "code",
      "metadata": {
        "id": "uXvlNeWtWQk-",
        "outputId": "88be661f-ec58-46dc-b8a3-177106e4e0ee",
        "colab": {
          "base_uri": "https://localhost:8080/",
          "height": 51
        }
      },
      "source": [
        "confusion_matrix(y_pred,y_test)"
      ],
      "execution_count": 20,
      "outputs": [
        {
          "output_type": "execute_result",
          "data": {
            "text/plain": [
              "array([[4, 0],\n",
              "       [1, 5]])"
            ]
          },
          "metadata": {
            "tags": []
          },
          "execution_count": 20
        }
      ]
    },
    {
      "cell_type": "markdown",
      "metadata": {
        "id": "uYHN9VGXvRNV"
      },
      "source": [
        ""
      ]
    },
    {
      "cell_type": "code",
      "metadata": {
        "id": "Zj9VACiHgIaY"
      },
      "source": [
        "import pickle\n",
        "pickle.dump(clf,open('img_model.p','wb'))"
      ],
      "execution_count": 21,
      "outputs": []
    },
    {
      "cell_type": "code",
      "metadata": {
        "id": "GUZTY9rEX70I"
      },
      "source": [
        "model=pickle.load(open('img_model.p','rb'))"
      ],
      "execution_count": 22,
      "outputs": []
    },
    {
      "cell_type": "code",
      "metadata": {
        "id": "5gAJ3NWw2-LM"
      },
      "source": [
        "flat_data=[]\n",
        "url=input('enter url')\n",
        "img=imread(url)\n",
        "img_resized=resize(img,(150,150,3))\n",
        "flat_data.append(img_resized.flatten())\n",
        "print(img.shape)\n",
        "plt.imshow(img_resized)\n",
        "y_output=model.predict(flat_data)\n",
        "y_output=CATEGORIES[y_output[0]]\n",
        "print(f'PREDICTEDOUTOUT:{y_output}')"
      ],
      "execution_count": null,
      "outputs": []
    }
  ]
}